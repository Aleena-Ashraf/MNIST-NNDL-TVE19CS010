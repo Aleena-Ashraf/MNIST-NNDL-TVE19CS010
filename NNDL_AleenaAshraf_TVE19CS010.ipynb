{
  "nbformat": 4,
  "nbformat_minor": 0,
  "metadata": {
    "colab": {
      "name": "NNDL_AleenaAshraf_TVE19CS010.ipynb",
      "provenance": [],
      "collapsed_sections": []
    },
    "kernelspec": {
      "name": "python3",
      "display_name": "Python 3"
    },
    "language_info": {
      "name": "python"
    }
  },
  "cells": [
    {
      "cell_type": "markdown",
      "source": [
        "NNDL ML HONORS ASSIGNMENT \\\\\n",
        "ALEENA ASHRAF \\\\\n",
        "TVE19CS010 \\\\\n",
        "S5 CSE \\\\\n",
        "Github Repo : "
      ],
      "metadata": {
        "id": "UpwfMNrgKNiq"
      }
    },
    {
      "cell_type": "code",
      "execution_count": 3,
      "metadata": {
        "id": "THDv9BecHMbj"
      },
      "outputs": [],
      "source": [
        "from numpy import mean,std\n",
        "from matplotlib import pyplot as plt\n",
        "from sklearn.model_selection import KFold\n",
        "from tensorflow.keras.datasets import mnist\n",
        "from tensorflow.keras.utils import to_categorical\n",
        "from tensorflow.keras.models import Sequential\n",
        "from tensorflow.keras.layers import Conv2D,MaxPooling2D,Dense,Flatten\n",
        "from tensorflow.keras.optimizers import Adam\n",
        "\n"
      ]
    },
    {
      "cell_type": "code",
      "source": [
        "# load dataset\n",
        "(trainX, trainy), (testX, testy) = mnist.load_data()\n",
        "# summarize loaded dataset\n",
        "print('Train: X=%s, y=%s' % (trainX.shape, trainy.shape))\n",
        "print('Test: X=%s, y=%s' % (testX.shape, testy.shape))"
      ],
      "metadata": {
        "colab": {
          "base_uri": "https://localhost:8080/"
        },
        "id": "srHYb90yIB_Y",
        "outputId": "1168d36e-69fc-4cc7-e981-7c003516c465"
      },
      "execution_count": 4,
      "outputs": [
        {
          "output_type": "stream",
          "name": "stdout",
          "text": [
            "Downloading data from https://storage.googleapis.com/tensorflow/tf-keras-datasets/mnist.npz\n",
            "11493376/11490434 [==============================] - 0s 0us/step\n",
            "11501568/11490434 [==============================] - 0s 0us/step\n",
            "Train: X=(60000, 28, 28), y=(60000,)\n",
            "Test: X=(10000, 28, 28), y=(10000,)\n"
          ]
        }
      ]
    },
    {
      "cell_type": "code",
      "source": [
        "(trainX, trainY), (testX, testY) = mnist.load_data()\n",
        "\n",
        "# reshape dataset to have a single channel\n",
        "trainX = trainX.reshape((trainX.shape[0], 28, 28, 1))\n",
        "testX = testX.reshape((testX.shape[0], 28, 28, 1))"
      ],
      "metadata": {
        "id": "8ZzifrZyIH7v"
      },
      "execution_count": 5,
      "outputs": []
    },
    {
      "cell_type": "code",
      "source": [
        "from tensorflow.keras.utils import to_categorical\n",
        "\n",
        "# one hot encode target values\n",
        "trainY = to_categorical(trainY)\n",
        "testY = to_categorical(testY)"
      ],
      "metadata": {
        "id": "H0kSo5CcIPiZ"
      },
      "execution_count": 6,
      "outputs": []
    },
    {
      "cell_type": "code",
      "source": [
        "# convert from integers to floats\n",
        "train_norm = trainX.astype('float32')\n",
        "test_norm = testX.astype('float32')\n",
        "# normalize to range 0-1\n",
        "trainX = train_norm / 255.0\n",
        "testX = test_norm / 255.0"
      ],
      "metadata": {
        "id": "U0k5w8zdIUqK"
      },
      "execution_count": 7,
      "outputs": []
    },
    {
      "cell_type": "markdown",
      "source": [
        "MODEL 1"
      ],
      "metadata": {
        "id": "FXiccSlOIoZ-"
      }
    },
    {
      "cell_type": "code",
      "source": [
        "def define_model_1():\n",
        "\tmodel = Sequential()\n",
        "\tmodel.add(Flatten(input_shape=(28, 28)))\n",
        "\tmodel.add(Dense(200, activation='relu'))\n",
        "\tmodel.add(Dense(10, activation='softmax'))\n",
        "\t# compile model\n",
        "\topt = Adam(learning_rate=0.01)\n",
        "\tmodel.compile(optimizer=opt, loss='categorical_crossentropy', metrics=['accuracy'])\n",
        "\treturn model"
      ],
      "metadata": {
        "id": "tMqm2eaJIrCr"
      },
      "execution_count": 19,
      "outputs": []
    },
    {
      "cell_type": "code",
      "source": [
        "# evaluate a model using k-fold cross-validation\n",
        "def evaluate_model_1():\n",
        "    scores, histories = list(), list()\n",
        "    # define model\n",
        "    model = define_model_1()\n",
        "    print(model.summary())\n",
        "    # fit model\n",
        "    history = model.fit(trainX, trainY, epochs=10, batch_size=32, validation_data=(testX, testY), verbose=1)\n",
        "    # evaluate model\n",
        "    _, acc = model.evaluate(testX, testY, verbose=1)\n",
        "    print('> %.3f' % (acc * 100.0))\n",
        "    # stores scores\n",
        "    scores.append(acc)\n",
        "    histories.append(history)\n",
        "    return scores, histories"
      ],
      "metadata": {
        "id": "pdwy6StpJFQv"
      },
      "execution_count": 11,
      "outputs": []
    },
    {
      "cell_type": "code",
      "source": [
        "scores, histories = evaluate_model_1()\n"
      ],
      "metadata": {
        "colab": {
          "base_uri": "https://localhost:8080/"
        },
        "id": "rxksNbRjJzx4",
        "outputId": "61af5bcc-c1a8-4606-84ad-2cc538e5c59e"
      },
      "execution_count": 20,
      "outputs": [
        {
          "output_type": "stream",
          "name": "stdout",
          "text": [
            "Model: \"sequential_3\"\n",
            "_________________________________________________________________\n",
            " Layer (type)                Output Shape              Param #   \n",
            "=================================================================\n",
            " flatten_3 (Flatten)         (None, 784)               0         \n",
            "                                                                 \n",
            " dense_8 (Dense)             (None, 200)               157000    \n",
            "                                                                 \n",
            " dense_9 (Dense)             (None, 10)                2010      \n",
            "                                                                 \n",
            "=================================================================\n",
            "Total params: 159,010\n",
            "Trainable params: 159,010\n",
            "Non-trainable params: 0\n",
            "_________________________________________________________________\n",
            "None\n",
            "Epoch 1/10\n",
            "1875/1875 [==============================] - 7s 4ms/step - loss: 0.2371 - accuracy: 0.9295 - val_loss: 0.1846 - val_accuracy: 0.9480\n",
            "Epoch 2/10\n",
            "1875/1875 [==============================] - 6s 3ms/step - loss: 0.1614 - accuracy: 0.9556 - val_loss: 0.1899 - val_accuracy: 0.9500\n",
            "Epoch 3/10\n",
            "1875/1875 [==============================] - 6s 3ms/step - loss: 0.1417 - accuracy: 0.9629 - val_loss: 0.1748 - val_accuracy: 0.9573\n",
            "Epoch 4/10\n",
            "1875/1875 [==============================] - 6s 3ms/step - loss: 0.1314 - accuracy: 0.9647 - val_loss: 0.1559 - val_accuracy: 0.9637\n",
            "Epoch 5/10\n",
            "1875/1875 [==============================] - 6s 3ms/step - loss: 0.1175 - accuracy: 0.9697 - val_loss: 0.2032 - val_accuracy: 0.9634\n",
            "Epoch 6/10\n",
            "1875/1875 [==============================] - 6s 3ms/step - loss: 0.1166 - accuracy: 0.9710 - val_loss: 0.1879 - val_accuracy: 0.9627\n",
            "Epoch 7/10\n",
            "1875/1875 [==============================] - 6s 3ms/step - loss: 0.1062 - accuracy: 0.9736 - val_loss: 0.2719 - val_accuracy: 0.9531\n",
            "Epoch 8/10\n",
            "1875/1875 [==============================] - 6s 3ms/step - loss: 0.1085 - accuracy: 0.9741 - val_loss: 0.2257 - val_accuracy: 0.9671\n",
            "Epoch 9/10\n",
            "1875/1875 [==============================] - 6s 3ms/step - loss: 0.0943 - accuracy: 0.9773 - val_loss: 0.2484 - val_accuracy: 0.9588\n",
            "Epoch 10/10\n",
            "1875/1875 [==============================] - 6s 3ms/step - loss: 0.0975 - accuracy: 0.9766 - val_loss: 0.2339 - val_accuracy: 0.9632\n",
            "313/313 [==============================] - 1s 2ms/step - loss: 0.2339 - accuracy: 0.9632\n",
            "> 96.320\n"
          ]
        }
      ]
    },
    {
      "cell_type": "markdown",
      "source": [
        "MODEL 2"
      ],
      "metadata": {
        "id": "0wXuOFV1LFEa"
      }
    },
    {
      "cell_type": "code",
      "source": [
        "def define_model_2():\n",
        "    model = Sequential()\n",
        "    model.add(Flatten(input_shape=(28, 28)))\n",
        "    model.add(Dense(200, activation='relu'))\n",
        "    model.add(Dense(170, activation='relu'))\n",
        "    model.add(Dense(64, activation='relu'))\n",
        "    model.add(Dense(10, activation='softmax'))\n",
        "    # compile model\n",
        "    opt = Adam(learning_rate=0.01)\n",
        "    model.compile(optimizer=opt, loss='categorical_crossentropy', metrics=['accuracy'])\n",
        "    return model"
      ],
      "metadata": {
        "id": "rqA2cEeKKfDq"
      },
      "execution_count": 21,
      "outputs": []
    },
    {
      "cell_type": "code",
      "source": [
        "# evaluate a model using k-fold cross-validation\n",
        "def evaluate_model_2():\n",
        "    scores, histories = list(), list()\n",
        "    # define model\n",
        "    model = define_model_2()\n",
        "    print(model.summary())\n",
        "    # fit model\n",
        "    history = model.fit(trainX, trainY, epochs=10, batch_size=32, validation_data=(testX, testY), verbose=1)\n",
        "    # evaluate model\n",
        "    _, acc = model.evaluate(testX, testY, verbose=1)\n",
        "    print('> %.3f' % (acc * 100.0))\n",
        "    # stores scores\n",
        "    scores.append(acc)\n",
        "    histories.append(history)\n",
        "    return scores, histories\n"
      ],
      "metadata": {
        "id": "uF3SPbrtLNZu"
      },
      "execution_count": 14,
      "outputs": []
    },
    {
      "cell_type": "markdown",
      "source": [
        "Execute the Second Model Training\n"
      ],
      "metadata": {
        "id": "uJExvh-ELRQX"
      }
    },
    {
      "cell_type": "code",
      "source": [
        "scores, histories = evaluate_model_2()\n",
        "\n"
      ],
      "metadata": {
        "colab": {
          "base_uri": "https://localhost:8080/"
        },
        "id": "8_I7pLkhLX0f",
        "outputId": "06a78bc4-3d52-4948-9cfc-cfea80bbf708"
      },
      "execution_count": 15,
      "outputs": [
        {
          "output_type": "stream",
          "name": "stdout",
          "text": [
            "Model: \"sequential_1\"\n",
            "_________________________________________________________________\n",
            " Layer (type)                Output Shape              Param #   \n",
            "=================================================================\n",
            " flatten_1 (Flatten)         (None, 784)               0         \n",
            "                                                                 \n",
            " dense_2 (Dense)             (None, 220)               172700    \n",
            "                                                                 \n",
            " dense_3 (Dense)             (None, 150)               33150     \n",
            "                                                                 \n",
            " dense_4 (Dense)             (None, 64)                9664      \n",
            "                                                                 \n",
            " dense_5 (Dense)             (None, 10)                650       \n",
            "                                                                 \n",
            "=================================================================\n",
            "Total params: 216,164\n",
            "Trainable params: 216,164\n",
            "Non-trainable params: 0\n",
            "_________________________________________________________________\n",
            "None\n",
            "Epoch 1/10\n",
            "1875/1875 [==============================] - 9s 5ms/step - loss: 0.3054 - accuracy: 0.9157 - val_loss: 0.2277 - val_accuracy: 0.9404\n",
            "Epoch 2/10\n",
            "1875/1875 [==============================] - 8s 4ms/step - loss: 0.1944 - accuracy: 0.9499 - val_loss: 0.1912 - val_accuracy: 0.9578\n",
            "Epoch 3/10\n",
            "1875/1875 [==============================] - 9s 5ms/step - loss: 0.1717 - accuracy: 0.9577 - val_loss: 0.2169 - val_accuracy: 0.9487\n",
            "Epoch 4/10\n",
            "1875/1875 [==============================] - 9s 5ms/step - loss: 0.1542 - accuracy: 0.9633 - val_loss: 0.1673 - val_accuracy: 0.9589\n",
            "Epoch 5/10\n",
            "1875/1875 [==============================] - 8s 4ms/step - loss: 0.1484 - accuracy: 0.9652 - val_loss: 0.1843 - val_accuracy: 0.9600\n",
            "Epoch 6/10\n",
            "1875/1875 [==============================] - 8s 5ms/step - loss: 0.1411 - accuracy: 0.9682 - val_loss: 0.1731 - val_accuracy: 0.9655\n",
            "Epoch 7/10\n",
            "1875/1875 [==============================] - 8s 4ms/step - loss: 0.1387 - accuracy: 0.9701 - val_loss: 0.1681 - val_accuracy: 0.9637\n",
            "Epoch 8/10\n",
            "1875/1875 [==============================] - 8s 4ms/step - loss: 0.1298 - accuracy: 0.9713 - val_loss: 0.1602 - val_accuracy: 0.9663\n",
            "Epoch 9/10\n",
            "1875/1875 [==============================] - 8s 4ms/step - loss: 0.1222 - accuracy: 0.9728 - val_loss: 0.1672 - val_accuracy: 0.9712\n",
            "Epoch 10/10\n",
            "1875/1875 [==============================] - 8s 4ms/step - loss: 0.1250 - accuracy: 0.9721 - val_loss: 0.1467 - val_accuracy: 0.9688\n",
            "313/313 [==============================] - 1s 2ms/step - loss: 0.1467 - accuracy: 0.9688\n",
            "> 96.880\n"
          ]
        }
      ]
    },
    {
      "cell_type": "markdown",
      "source": [
        "\n",
        "Report \\\\\n",
        "\n",
        "Two Deep Learning Models with softmax layer activation at the top and 'relu' on other layers using Neural Network architecture was created on the MNIST dataset \\\\\n",
        "\n",
        "MODEL 1: \\\\\n",
        "Number of NN layers = 2 \\\\\n",
        "Validation Accuracy = 96.320 \\\\\n",
        "Validation Loss = 0.2339 \\\\\n",
        "Number of Trainable Parameters = 159,010 \\\\\n",
        "\n",
        "MODEL 2: \\\\\n",
        "Number of NN layers = 4 \\\\\n",
        "Validation Accuracy = 96.880 \\\\\n",
        "Validation Loss = 0.1467 \\\\\n",
        "Number of Trainable Parameters = 216,164 \\\\\n",
        "\n",
        "Model 2 has better validation accuracy than Model 1 hence Model 2 has better performance. \\\\\n"
      ],
      "metadata": {
        "id": "cfMWQ6dRMQ80"
      }
    }
  ]
}